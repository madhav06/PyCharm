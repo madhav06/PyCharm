{
 "cells": [
  {
   "cell_type": "code",
   "execution_count": 11,
   "metadata": {},
   "outputs": [
    {
     "name": "stdout",
     "output_type": "stream",
     "text": [
      "<bound method Person.number_people of <class '__main__.Person'>>\n",
      "<bound method Person.number_people of <class '__main__.Person'>>\n",
      "<bound method Person.number_people of <class '__main__.Person'>>\n"
     ]
    }
   ],
   "source": [
    "class Person:\n",
    "    \n",
    "    number_of_people = 0\n",
    "    \n",
    "    \n",
    "    def __init__(self, name):\n",
    "        self.name = name\n",
    "        Person.add_person()\n",
    "     \n",
    "    \n",
    "    @classmethod                # decorator   \n",
    "    def number_people(cls):  # class method\n",
    "        return cls.number_people\n",
    "    \n",
    "    \n",
    "    @classmethod\n",
    "    def add_person(cls):\n",
    "        cls.number_of_people += 1\n",
    "        \n",
    "        \n",
    "P1 = Person(\"Tim\")\n",
    "p2 = Person(\"Jill\")\n",
    "p3 = Person(\"Sally\")\n",
    "print(Person.number_people())\n",
    "print(Person.number_people())\n",
    "print(Person.number_people())\n"
   ]
  },
  {
   "cell_type": "code",
   "execution_count": 15,
   "metadata": {},
   "outputs": [
    {
     "name": "stdout",
     "output_type": "stream",
     "text": [
      "10\n",
      "55\n",
      "run\n"
     ]
    }
   ],
   "source": [
    "class Math:\n",
    "    \n",
    "    @staticmethod\n",
    "    def add5(x):\n",
    "        return x + 5\n",
    "    \n",
    "    @staticmethod\n",
    "    def add50(x):\n",
    "        return x + 50\n",
    "    \n",
    "    @staticmethod\n",
    "    def pr():\n",
    "        print(\"run\")\n",
    "    \n",
    "    \n",
    "print(Math.add5(5))\n",
    "print(Math.add50(5))\n",
    "Math.pr()\n",
    "        "
   ]
  },
  {
   "cell_type": "code",
   "execution_count": null,
   "metadata": {},
   "outputs": [],
   "source": []
  }
 ],
 "metadata": {
  "kernelspec": {
   "display_name": "Python 3",
   "language": "python",
   "name": "python3"
  },
  "language_info": {
   "codemirror_mode": {
    "name": "ipython",
    "version": 3
   },
   "file_extension": ".py",
   "mimetype": "text/x-python",
   "name": "python",
   "nbconvert_exporter": "python",
   "pygments_lexer": "ipython3",
   "version": "3.8.2"
  }
 },
 "nbformat": 4,
 "nbformat_minor": 4
}

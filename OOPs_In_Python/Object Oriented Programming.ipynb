{
 "cells": [
  {
   "cell_type": "markdown",
   "metadata": {},
   "source": [
    "# OOPs In Python"
   ]
  },
  {
   "cell_type": "markdown",
   "metadata": {},
   "source": [
    "## Basic example"
   ]
  },
  {
   "cell_type": "code",
   "execution_count": 41,
   "metadata": {},
   "outputs": [],
   "source": [
    "class Dog:\n",
    "    \n",
    "    def __init__(self, name, age):\n",
    "        self.name = name\n",
    "        self.age = age\n",
    "        \n",
    "        \n",
    "    def get_name(self):\n",
    "        return self.name\n",
    "    \n",
    "    def get_age(self):\n",
    "        return self.age\n",
    "        \n",
    "    \n",
    "    "
   ]
  },
  {
   "cell_type": "code",
   "execution_count": 42,
   "metadata": {},
   "outputs": [
    {
     "name": "stdout",
     "output_type": "stream",
     "text": [
      "Pete 34\n",
      "Snowbill 12\n"
     ]
    }
   ],
   "source": [
    "d1 = Dog('Pete', 34)    # create object\n",
    "print(d1.get_name(), d1.get_age())\n",
    "# print(d1.get_age())\n",
    "\n",
    "d2 = Dog('Snowbill', 12)\n",
    "print(d2.get_name(), d2.get_age())\n",
    "# print(d2.get_age())\n"
   ]
  },
  {
   "cell_type": "markdown",
   "metadata": {},
   "source": [
    "## Advanced Example"
   ]
  },
  {
   "cell_type": "code",
   "execution_count": 53,
   "metadata": {},
   "outputs": [],
   "source": [
    "class Student:\n",
    "    \n",
    "    def __init__(self, name, age, grade):\n",
    "        self.name = name\n",
    "        self.age = age\n",
    "        self.grade = grade\n",
    "        \n",
    "    def get_grade(self):\n",
    "        return self.grade"
   ]
  },
  {
   "cell_type": "code",
   "execution_count": 54,
   "metadata": {},
   "outputs": [],
   "source": [
    "class Course:\n",
    "    \n",
    "    def __init__(self, name, max_students):\n",
    "        self.name = name\n",
    "        self.max_students = max_students\n",
    "        self.students = []\n",
    "        \n",
    "    def add_student(self, student):\n",
    "        if len(self.students) < self.max_students:\n",
    "            self.students.append(student)\n",
    "            return True\n",
    "        return False\n",
    "    \n",
    "    def get_average_grade(self):\n",
    "        value = 0\n",
    "        for student in self.students:\n",
    "            value += student.get_grade()\n",
    "            \n",
    "        return value / len(self.students)\n",
    "        "
   ]
  },
  {
   "cell_type": "code",
   "execution_count": 55,
   "metadata": {},
   "outputs": [
    {
     "data": {
      "text/plain": [
       "True"
      ]
     },
     "execution_count": 55,
     "metadata": {},
     "output_type": "execute_result"
    }
   ],
   "source": [
    "s1 = Student('Tim', 19, 95)\n",
    "s2 = Student('Cathy', 21, 73)\n",
    "s3 = Student('Bill', 23, 67)\n",
    "\n",
    "\n",
    "course = Course('Computer Science', 2)\n",
    "\n",
    "course.add_student(s1)\n",
    "course.add_student(s2)"
   ]
  },
  {
   "cell_type": "code",
   "execution_count": 48,
   "metadata": {},
   "outputs": [
    {
     "name": "stdout",
     "output_type": "stream",
     "text": [
      "Tim\n"
     ]
    }
   ],
   "source": [
    "print(course.students[0].name)"
   ]
  },
  {
   "cell_type": "code",
   "execution_count": 49,
   "metadata": {},
   "outputs": [
    {
     "name": "stdout",
     "output_type": "stream",
     "text": [
      "Cathy\n"
     ]
    }
   ],
   "source": [
    "print(course.students[1].name)"
   ]
  },
  {
   "cell_type": "code",
   "execution_count": 56,
   "metadata": {},
   "outputs": [
    {
     "name": "stdout",
     "output_type": "stream",
     "text": [
      "84.0\n"
     ]
    }
   ],
   "source": [
    "print(course.get_average_grade())"
   ]
  },
  {
   "cell_type": "code",
   "execution_count": null,
   "metadata": {},
   "outputs": [],
   "source": []
  }
 ],
 "metadata": {
  "kernelspec": {
   "display_name": "Python 3",
   "language": "python",
   "name": "python3"
  },
  "language_info": {
   "codemirror_mode": {
    "name": "ipython",
    "version": 3
   },
   "file_extension": ".py",
   "mimetype": "text/x-python",
   "name": "python",
   "nbconvert_exporter": "python",
   "pygments_lexer": "ipython3",
   "version": "3.8.2"
  }
 },
 "nbformat": 4,
 "nbformat_minor": 4
}

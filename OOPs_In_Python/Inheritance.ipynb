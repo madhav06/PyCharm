{
 "cells": [
  {
   "cell_type": "markdown",
   "metadata": {},
   "source": [
    "# Inheritance"
   ]
  },
  {
   "cell_type": "markdown",
   "metadata": {},
   "source": [
    "## Basic working example"
   ]
  },
  {
   "cell_type": "code",
   "execution_count": 4,
   "metadata": {},
   "outputs": [],
   "source": [
    "class Cat:\n",
    "    def __init__(self, name, age):\n",
    "        self.name = name\n",
    "        self.age = age\n",
    "        \n",
    "    def speak(self):\n",
    "        print('Meaowww')\n",
    "        \n",
    "        \n",
    "class Dog:\n",
    "    def __init__(self, name, age):\n",
    "        self.name = name\n",
    "        self.age = age\n",
    "        \n",
    "    def speak(self):\n",
    "        print('Woff Wofff')"
   ]
  },
  {
   "cell_type": "markdown",
   "metadata": {},
   "source": [
    "## Improving this code using Inheritance"
   ]
  },
  {
   "cell_type": "code",
   "execution_count": 14,
   "metadata": {},
   "outputs": [
    {
     "name": "stdout",
     "output_type": "stream",
     "text": [
      "I am Tim and I'm 19 years old\n",
      "I am Bill and I'm 34 years old\n",
      "Meaowww\n",
      "I am Jill and I'm 25 years old\n"
     ]
    }
   ],
   "source": [
    "class Pet:\n",
    "    def __init__(self, name, age):\n",
    "        self.name = name\n",
    "        self.age = age\n",
    "        \n",
    "    def show(self):\n",
    "        print(f\"I am {self.name} and I'm {self.age} years old\")\n",
    "        \n",
    "        \n",
    "    def speak(self):\n",
    "        print(\"I don't know what I can say.\")\n",
    "        \n",
    "        \n",
    "        \n",
    "class Cat(Pet):\n",
    "    def speak(self):\n",
    "        print('Meaowww')\n",
    "        \n",
    "        \n",
    "class Dog(Pet):\n",
    "    def speak(self):\n",
    "        print('Woff Wofff')\n",
    "        \n",
    "        \n",
    "        \n",
    "class Fish(Pet):\n",
    "    pass\n",
    "        \n",
    "p = Pet('Tim', 19)\n",
    "p.show()\n",
    "\n",
    "c = Cat('Bill', 34)\n",
    "c.show()\n",
    "c.speak()\n",
    "\n",
    "d = Dog('Jill', 25)\n",
    "d.show()\n",
    "\n",
    "\n",
    "f = Fish('N')"
   ]
  },
  {
   "cell_type": "code",
   "execution_count": null,
   "metadata": {},
   "outputs": [],
   "source": []
  }
 ],
 "metadata": {
  "kernelspec": {
   "display_name": "Python 3",
   "language": "python",
   "name": "python3"
  },
  "language_info": {
   "codemirror_mode": {
    "name": "ipython",
    "version": 3
   },
   "file_extension": ".py",
   "mimetype": "text/x-python",
   "name": "python",
   "nbconvert_exporter": "python",
   "pygments_lexer": "ipython3",
   "version": "3.8.2"
  }
 },
 "nbformat": 4,
 "nbformat_minor": 4
}
